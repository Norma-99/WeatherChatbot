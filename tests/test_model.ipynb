{
 "cells": [
  {
   "cell_type": "code",
   "execution_count": null,
   "metadata": {},
   "outputs": [],
   "source": [
    "# viz_dash\n",
    "sample_data = {\n",
    "    'location': 'london', \n",
    "    'days': 4, \n",
    "    'temperature': [6, 5, 18, 29], \n",
    "    # 'precipitation': [8.90413883114445, 0.33233459627986184, 4.3122270213482015, 8.500102619951065], \n",
    "    # 'wind': [14.834515085743334, 6.6653584874527505, 7.305588651356283, 13.370943297023864], \n",
    "    # 'humidity': [22, 80, 35, 5], \n",
    "    # 'sunrise_sunset': [('08:22AM', '08:52PM'), ('08:06AM', '06:38PM'), ('07:58AM', '07:42PM'), ('08:39AM', '07:07PM')], \n",
    "    'days_list': ['01/09/24', '01/10/24', '01/11/24', '01/12/24']\n",
    "}\n",
    "\n",
    "sample_data = {\n",
    "    'location': 'london', \n",
    "    'days': 4, \n",
    "    'temperature': [6, 5, 18, 29], \n",
    "    'precipitation': [8.90413883114445, 0.33233459627986184, 4.3122270213482015, 8.500102619951065],\n",
    "    'wind': [14.834515085743334, 6.6653584874527505, 7.305588651356283, 13.370943297023864], \n",
    "    'humidity': [22, 80, 35, 5], \n",
    "    'sunrise_sunset': [('08:22AM', '08:52PM'), ('08:06AM', '06:38PM'), ('07:58AM', '07:42PM'), ('08:39AM', '07:07PM')], \n",
    "    'days_list': ['01/09/24', '01/10/24', '01/11/24', '01/12/24']\n",
    "}\n",
    "vd = VisualizationDashboard(sample_data)\n",
    "plots = vd.run()\n"
   ]
  },
  {
   "cell_type": "code",
   "execution_count": null,
   "metadata": {},
   "outputs": [],
   "source": [
    "# actions.py\n",
    "# ### EXAMPLE USAGE LOCATION\n",
    "# # Example usage\n",
    "# # text1 = \"I want to know Amsterdam.\"\n",
    "# # text2 = \"I live in Ciudad de Mexico.\"\n",
    "# # text3 = \"I want to know the weather in Berlin and Dubai\"\n",
    "\n",
    "# # for text in [text1, text2, text3]:\n",
    "# #     cities = extract_city_names(text)\n",
    "# #     print(f\"Cities in '{text}': {cities}\")"
   ]
  },
  {
   "cell_type": "code",
   "execution_count": null,
   "metadata": {},
   "outputs": [],
   "source": [
    "# Controller\n",
    "###### GOAL #######\n",
    "# example_user_resp = {\n",
    "#     \"location\": \"london\",\n",
    "#     \"days\": 4,\n",
    "#     \"temperature\": True,\n",
    "#     \"precipitation\": True,\n",
    "#     \"wind\": True,\n",
    "#     \"humidity\": True,\n",
    "#     \"sunrise_sunset\": True\n",
    "# }"
   ]
  },
  {
   "cell_type": "code",
   "execution_count": null,
   "metadata": {},
   "outputs": [],
   "source": [
    "## Weather info\n",
    "# # Example usage\n",
    "# example_user_resp = {\n",
    "#     \"location\": \"london\",\n",
    "#     \"days\": 4,\n",
    "#     \"temperature\": True,\n",
    "#     \"precipitation\": True,\n",
    "#     \"wind\": True,\n",
    "#     \"humidity\": True,\n",
    "#     \"sunrise_sunset\": True\n",
    "# }\n",
    "# wi = WeatherInformation(example_user_resp)\n",
    "# weather_info = wi.get_weather_info()\n",
    "\n",
    "# print(weather_info)"
   ]
  }
 ],
 "metadata": {
  "language_info": {
   "name": "python"
  }
 },
 "nbformat": 4,
 "nbformat_minor": 2
}
